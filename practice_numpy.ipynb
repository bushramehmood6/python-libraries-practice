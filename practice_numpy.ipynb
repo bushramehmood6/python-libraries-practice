{
 "cells": [
  {
   "cell_type": "markdown",
   "id": "803b4d25",
   "metadata": {},
   "source": [
    "NUMPY LIBRARY: numerical python\n",
    "IT IS BASICALLY AN ARRAY OF A LIST,IT IS MEMORY EFFICIENT\n",
    "POWERFULL OPERATIONS\n",
    "EFFICIENT MATHEMATICAL CALCULATIONS\n",
    "FASTER THAN LIST\n",
    "WORKS ON BIGGER DATA,MILLIONS OF DATA ROWS\n",
    "\n"
   ]
  },
  {
   "cell_type": "code",
   "execution_count": 2,
   "id": "a8cb49e7",
   "metadata": {},
   "outputs": [
    {
     "name": "stdout",
     "output_type": "stream",
     "text": [
      "Requirement already satisfied: numpy in c:\\users\\saifia computer\\appdata\\local\\programs\\python\\python313\\lib\\site-packages (2.3.2)\n"
     ]
    }
   ],
   "source": [
    "#CREATION OF ARRAY,no.array()method to convert list into an array\n",
    "! pip install numpy"
   ]
  },
  {
   "cell_type": "markdown",
   "id": "d4279888",
   "metadata": {},
   "source": [
    "we have known the methods\n",
    "np.array\n",
    "np.zeros\n",
    "np.ones\n",
    "np.eye\n",
    "np.full"
   ]
  },
  {
   "cell_type": "code",
   "execution_count": 10,
   "id": "e234098a",
   "metadata": {},
   "outputs": [
    {
     "name": "stdout",
     "output_type": "stream",
     "text": [
      "[2 3 4]\n",
      "[[2 3 4]\n",
      " [5 6 7]]\n",
      "[[0. 0. 0. 0.]\n",
      " [0. 0. 0. 0.]\n",
      " [0. 0. 0. 0.]]\n",
      "[[1. 1. 1. 1. 1. 1. 1.]\n",
      " [1. 1. 1. 1. 1. 1. 1.]\n",
      " [1. 1. 1. 1. 1. 1. 1.]\n",
      " [1. 1. 1. 1. 1. 1. 1.]\n",
      " [1. 1. 1. 1. 1. 1. 1.]\n",
      " [1. 1. 1. 1. 1. 1. 1.]]\n",
      "[[9 9 9 9 9]\n",
      " [9 9 9 9 9]]\n",
      "[[1. 0. 0.]\n",
      " [0. 1. 0.]\n",
      " [0. 0. 1.]]\n"
     ]
    }
   ],
   "source": [
    "import numpy as np\n",
    "oned_array=np.array([2,3,4])\n",
    "print(oned_array)\n",
    "#2darray\n",
    "twod_array=np.array([[2,3,4],[5,6,7]])\n",
    "print(twod_array)\n",
    "#zeros,need to pass shape in tuple\n",
    "zeros_array=np.zeros((3,4))\n",
    "print(zeros_array)\n",
    "#ones array\n",
    "ones_array=np.ones((6,7))\n",
    "print(ones_array)\n",
    "#full array by your given number\n",
    "full_array=np.full((2,5),9)\n",
    "print(full_array)\n",
    "#identity_matrix:diagnols are ones and rest are 0\n",
    "identity_matrix=np.eye(3)\n",
    "print(identity_matrix)\n"
   ]
  },
  {
   "cell_type": "markdown",
   "id": "2d2b966c",
   "metadata": {},
   "source": [
    "NOW TO CHECK THR ARRAY WE HAVE DIFFERENT ATTRIBUTES/PROPERTIES\n",
    "1)SHAPE.....TELLS AS NUM OF ROWS AND COLUMNS\n",
    "2)SIZE....HOW MANY ELEMENTS IT CONTAINS\n",
    "3)ASTYPE......WE CAN CHANGE THE TYPE OF ARRAY ELEMENTS INTO NEW ONE\n",
    "4)DTYPE.....TYPE OF ELEMENTS IN AN ARRAY,,,,FLOAT,INT,STR\n",
    "5)NDIM....NUM OF DIMENSIONS.....1D,2D OR 3D ARRAY"
   ]
  },
  {
   "cell_type": "code",
   "execution_count": 18,
   "id": "a3ef2836",
   "metadata": {},
   "outputs": [
    {
     "name": "stdout",
     "output_type": "stream",
     "text": [
      "(2, 2, 3)\n",
      "12\n",
      "[[[2. 3. 4.]\n",
      "  [4. 5. 6.]]\n",
      "\n",
      " [[4. 5. 6.]\n",
      "  [3. 5. 6.]]]\n",
      "int64\n",
      "3\n"
     ]
    }
   ],
   "source": [
    "import numpy as np\n",
    "oned_array=np.array([[[2,3,4],[4,5,6]],[[4,5,6],[3,5,6]]])\n",
    "print(oned_array.shape)\n",
    "print(oned_array.size)\n",
    "print(oned_array.astype('float64'))\n",
    "print(oned_array.dtype)\n",
    "print(oned_array.ndim)"
   ]
  },
  {
   "cell_type": "markdown",
   "id": "44843d99",
   "metadata": {},
   "source": [
    "arthematic and aggregation on numpy array\n",
    "ARTHEMATIC MEANS....+,-,*,**,/,//,%\n",
    "AGGREGATION.....STATISTICAL SUMMARY....MEAN,MAX,MIN,STD,VAR\n"
   ]
  },
  {
   "cell_type": "code",
   "execution_count": 23,
   "id": "ea8b63de",
   "metadata": {},
   "outputs": [
    {
     "name": "stdout",
     "output_type": "stream",
     "text": [
      "[12 13 14]\n",
      "[-8 -7 -6]\n",
      "[0.2 0.3 0.4]\n",
      "[20 30 40]\n",
      "[   1024   59049 1048576]\n",
      "[0 0 0]\n",
      "[2 3 4]\n"
     ]
    }
   ],
   "source": [
    "#arthematic operations\n",
    "import numpy as np\n",
    "oned_array=np.array([2,3,4])\n",
    "print(oned_array+10)\n",
    "print(oned_array-10)\n",
    "print(oned_array/10)\n",
    "print(oned_array*10)\n",
    "print(oned_array**10)\n",
    "print(oned_array//10)\n",
    "print(oned_array%10)\n"
   ]
  },
  {
   "cell_type": "code",
   "execution_count": 21,
   "id": "12811fac",
   "metadata": {},
   "outputs": [
    {
     "name": "stdout",
     "output_type": "stream",
     "text": [
      "3.0\n",
      "9\n",
      "2\n",
      "4\n",
      "0.816496580927726\n",
      "0.6666666666666666\n"
     ]
    }
   ],
   "source": [
    "#aggregation\n",
    "import numpy as np\n",
    "oned_array=np.array([2,3,4])\n",
    "print(oned_array.mean())\n",
    "print(oned_array.sum())\n",
    "print(oned_array.min())\n",
    "print(oned_array.max())\n",
    "print(oned_array.std())\n",
    "print(oned_array.var())\n"
   ]
  },
  {
   "cell_type": "markdown",
   "id": "58a12852",
   "metadata": {},
   "source": [
    "INDEXING AND SLICING....FANCY INDEXING,BOOLEAN MASKING\n",
    "INDEXING MEAN TAKING A SINGLE ELEMENT FROM AN ARRAY USING THEIR LOCATION\n",
    "SLICING MEAN SUBSET OF ARRAY...IT TAKES 3 ARGUMENTS...START,STOP AND STEP\n",
    "FANCY INDEXING MEANS USING ARRAY OF INDICES TO ACCESS MULTIPLE ELEMENTS,YOU SELECT MULTIPLE ELEMENTS/INDICES AT ONCE\n",
    "BOOLEAN MASKING MEANS OF USING CONDITIONS TO ACCESS ELEMENTS"
   ]
  },
  {
   "cell_type": "code",
   "execution_count": null,
   "id": "10117d4c",
   "metadata": {},
   "outputs": [
    {
     "name": "stdout",
     "output_type": "stream",
     "text": [
      "2\n",
      "3\n",
      "4\n",
      "[2 4]\n",
      "[3 4]\n",
      "[4 5 6 7 8 9 6 4]\n"
     ]
    }
   ],
   "source": [
    "#INDEXING\n",
    "import numpy as np\n",
    "oned_array=np.array([2,3,4,5,6,7,8,9,0,6,4,3,3,2,2,2,2,2,2,2,2,2,2])\n",
    "print(oned_array[0])\n",
    "print(oned_array[1])\n",
    "print(oned_array[2])\n",
    "#fancy indicing....pass a list of indices..so []for index..another[]for list\n",
    "print(oned_array[[0,2]])\n",
    "print(oned_array[[1,2]])\n",
    "#boolean masking..use of square bracket\n",
    "print(oned_array[oned_array>3])"
   ]
  },
  {
   "cell_type": "code",
   "execution_count": 41,
   "id": "08370a09",
   "metadata": {},
   "outputs": [
    {
     "name": "stdout",
     "output_type": "stream",
     "text": [
      "[2 3 4 5 6 7]\n",
      "[2 3 4 5 6 7]\n",
      "[ 2  4  6  8  0  4 10]\n",
      "[ 2  5  8  6 10]\n"
     ]
    }
   ],
   "source": [
    "#slicing....taking subset of array\n",
    "import numpy as np\n",
    "oned_array=np.array([2,3,4,5,6,7,8,9,0,6,4,3,10,20])\n",
    "print(oned_array[0:6:1])\n",
    "print(oned_array[:6:1])\n",
    "print(oned_array[0::2])\n",
    "print(oned_array[::3])"
   ]
  },
  {
   "cell_type": "markdown",
   "id": "099380f7",
   "metadata": {},
   "source": [
    "RESHAPING AND MANIPULATION OF ARRAY\n",
    "RESHAPE......CHANGE THE DIMENSION OF ARRAY...IF ITS 1D...IT CAN CONVERT IT TO 2D,3D AND SO ON\n",
    "FLATTEN.....HIGHER DIMENSION ARRAYS TO 1D...IT PROVIDES COPY\n",
    "RAVEL....IT PROVIDES VIEW..IT PROVIDES A VIEW...MEANS CHANGE REFLACTS IN ORIGINAL ARRAY AS WELL...IT DOESNT PROVIDE COPY....\n",
    "DIFFERENCE BTWEEN RAVEL AND FLATTEN....\n",
    "FLATTEN RETUENS COPY...CONVERT INTO 1D\n",
    "RAVEL RETURNS VIEW...THOUGH BOTH USED FOR 1D ARRAY\n"
   ]
  },
  {
   "cell_type": "code",
   "execution_count": 48,
   "id": "0b1cb215",
   "metadata": {},
   "outputs": [
    {
     "name": "stdout",
     "output_type": "stream",
     "text": [
      "[[ 2  3]\n",
      " [ 4  5]\n",
      " [ 6  7]\n",
      " [ 8  9]\n",
      " [ 0  6]\n",
      " [ 4  3]\n",
      " [23 44]\n",
      " [10 20]]\n",
      "[ 2  3  4  5  6  7  8  9  0  6  4  3 23 44 10 20]\n",
      "[ 2  3  4  5  6  7  8  9  0  6  4  3 23 44 10 20]\n"
     ]
    }
   ],
   "source": [
    "#RESHAPING\n",
    "import numpy as np\n",
    "oned_array=np.array([2,3,4,5,6,7,8,9,0,6,4,3,23,44,10,20])\n",
    "print(oned_array.reshape(8,2))\n",
    "print(oned_array.flatten())\n",
    "print(oned_array.ravel())"
   ]
  },
  {
   "cell_type": "markdown",
   "id": "444e097e",
   "metadata": {},
   "source": [
    "REMOVING OF ARRAY ELEMENT IN AN ARRAY,THERE IS A FUNCTION NAMED AS:\n",
    "DELETE\n",
    "IT PROVIDES ANOTHER ARRAY AFTER MODIFICATION UNLIKE LIST IT DOESNT PROVIDE DELETE FUNVTION IN INPLACE ARRAY...\n",
    "it take 2 arguments in case of 1d.\n",
    "3 arguments in case of 2d and higher dimensions\n",
    "np.delete(new_arr.4,axis=0)"
   ]
  },
  {
   "cell_type": "code",
   "execution_count": null,
   "id": "63ee1c50",
   "metadata": {},
   "outputs": [
    {
     "name": "stdout",
     "output_type": "stream",
     "text": [
      "[3 4 5 6 7 8 9]\n",
      "[2 3 4 5 7 8 9]\n"
     ]
    }
   ],
   "source": [
    "#REMOVING OF AN ELEMENT FROM ANY ARRAY 1D...VIA DELETE FUNCTION\n",
    "import numpy as np\n",
    "new_arr=np.array([2,3,4,5,6,7,8,9])\n",
    "print(np.delete(new_arr,0))\n",
    "print(np.delete(new_arr,4))"
   ]
  },
  {
   "cell_type": "code",
   "execution_count": null,
   "id": "15914699",
   "metadata": {},
   "outputs": [
    {
     "name": "stdout",
     "output_type": "stream",
     "text": [
      "[[1 2 4]\n",
      " [8 9 7]]\n"
     ]
    }
   ],
   "source": [
    "#REMOVING OF AN ARRAY ELEMENT FROM 2D ARRAY\n",
    "import numpy as np\n",
    "arr_2d=np.array([[1,2,3,4],[8,9,0,7]])\n",
    "print(np.delete(arr_2d,2,axis=1))"
   ]
  },
  {
   "cell_type": "markdown",
   "id": "64b541f6",
   "metadata": {},
   "source": [
    "stacking.....horizontally....column \n",
    "vertically.....row wise"
   ]
  },
  {
   "cell_type": "code",
   "execution_count": 60,
   "id": "07ebc7ff",
   "metadata": {},
   "outputs": [
    {
     "name": "stdout",
     "output_type": "stream",
     "text": [
      "[[ 2  3  4  5  6  7  8  9]\n",
      " [10 11 12 13 14 15 16 17]]\n",
      "[ 2  3  4  5  6  7  8  9 10 11 12 13 14 15 16 17]\n"
     ]
    }
   ],
   "source": [
    "#stacking\n",
    "import numpy as np\n",
    "arr_1=np.array([2,3,4,5,6,7,8,9])\n",
    "arr_2=np.array([10,11,12,13,14,15,16,17])\n",
    "print(np.vstack((arr_1,arr_2)))\n",
    "print(np.hstack((arr_1,arr_2)))"
   ]
  },
  {
   "cell_type": "markdown",
   "id": "6fa8cf43",
   "metadata": {},
   "source": [
    "SPLITTING OF AN ARRAY IN PARTS\n",
    "EQUAL.....NP.SPLIT\n",
    "HORIZONTALL........NP.HSPLIT\n",
    "VERTICALL.......NP.VSPLIT\n",
    "hsplit → works fine on 1D arrays (splits like cutting a line horizontally).\n",
    "\n",
    "vsplit → requires at least 2D (splits along rows)."
   ]
  },
  {
   "cell_type": "code",
   "execution_count": 3,
   "id": "b51fff53",
   "metadata": {},
   "outputs": [
    {
     "name": "stdout",
     "output_type": "stream",
     "text": [
      "[array([2, 3, 4, 5]), array([6, 7, 8, 9])]\n",
      "[array([2, 3]), array([4, 5]), array([6, 7]), array([8, 9])]\n",
      "[array([[2, 3, 4, 5]]), array([[6, 7, 8, 9]])]\n"
     ]
    }
   ],
   "source": [
    "#SPLITTING OF AN ARRAY\n",
    "import numpy as np\n",
    "arr_1=np.array([2,3,4,5,6,7,8,9])\n",
    "print(np.split(arr_1,2))\n",
    "#SPLITTING OF AN ARRAY horizontally\n",
    "print(np.hsplit(arr_1,4))\n",
    "#SPLITTING OF AN ARRAY vertically\n",
    "arr_2=np.array([[2,3,4,5],[6,7,8,9]])\n",
    "print(np.vsplit(arr_2,2))"
   ]
  },
  {
   "cell_type": "markdown",
   "id": "7a1e22f3",
   "metadata": {},
   "source": [
    "BROADCSTING AND VECTORIZATION\n",
    "  BROADCASTING MEANS EXPANDING ARRAY TO MEET THE REQUIREMENTS...IT STRETCHES THE ARRAY SO THAT THE VALUES MAY FILL....\n",
    "shapes must be equal or anyone of the array it must have 1 value.....otherwise do the reshape thing\n",
    "VACTORIZATION MEANS....ALL OPERATIONS ARE PERFORMED AT ONCE WITH ARRAY....INSTAED OF LOOPING IT\n",
    "IT IS 100 TIMS FASTER THAN LOOPS\n",
    "\n",
    "1. Vectorization\n",
    "\n",
    "👉 Writing code that operates on whole arrays (vectors, matrices) instead of using explicit loops.\n",
    "\n",
    "It’s about style of coding: using array operations instead of for loops.\n",
    "\n",
    "Makes code shorter, cleaner, and much faster (because NumPy uses C under the hood).\n",
    "\n",
    "Broadcasting\n",
    "\n",
    "👉 The set of rules NumPy uses to make arrays of different shapes work together in operations.\n",
    "\n",
    "It’s not about avoiding loops — it’s about aligning shapes.\n",
    "\n",
    "NumPy \"stretches\" an array with shape 1 in a dimension to match the other array."
   ]
  },
  {
   "cell_type": "code",
   "execution_count": 74,
   "id": "fc84a8f4",
   "metadata": {},
   "outputs": [
    {
     "name": "stdout",
     "output_type": "stream",
     "text": [
      "[12 13 14 15 16]\n",
      "[144 169 196 225 256]\n"
     ]
    }
   ],
   "source": [
    "#Broadcasting\n",
    "import numpy as np\n",
    "arr_1=np.array([2,3,4,5,6])\n",
    "arr_2=np.array([10])\n",
    "new_arr=(arr_1+arr_2)**2\n",
    "print(arr_1+arr_2)\n",
    "print(new_arr)"
   ]
  },
  {
   "cell_type": "code",
   "execution_count": 75,
   "id": "c92191a7",
   "metadata": {},
   "outputs": [
    {
     "name": "stdout",
     "output_type": "stream",
     "text": [
      "[[12 13 14 15 16]\n",
      " [ 4  5  6  7  8]]\n"
     ]
    }
   ],
   "source": [
    "import numpy as np\n",
    "arr_1=np.array([2,3,4,5,6]) #shape (5,)\n",
    "arr_2=np.array([[10],[2]]) #shape(2,1)\n",
    "print(arr_1+arr_2)\n"
   ]
  },
  {
   "cell_type": "markdown",
   "id": "2f4cc8ca",
   "metadata": {},
   "source": [
    "(1,5)\n",
    "(2,1)\n",
    "now there is a comparison of 1 vs 2....\n",
    " 5 vs 1\n",
    " 2 rows 5 columns\n",
    "[[12 13 14 15 16]\n",
    " [ 4  5  6  7  8]]\n",
    "\n",
    " Step 1 — Align shapes\n",
    "\n",
    "arr_1.shape = (5,) → rewrite as (1,5) (padding on the left).\n",
    "\n",
    "arr_2.shape = (2,1) (already 2D).\n",
    "Step 2 — Compare dimensions (right → left)\n",
    "\n",
    "Last dim: 5 vs 1 → broadcast 1 → 5.\n",
    "\n",
    "Next dim: 1 vs 2 → broadcast 1 → 2.\n",
    "\n",
    "👉 Final result shape = (2,5)\n"
   ]
  },
  {
   "cell_type": "markdown",
   "id": "c820fa6e",
   "metadata": {},
   "source": [
    "NP.INF....-NP.INF.......FOR INFINITY VALUE \n",
    "NP.NAN.....TO SEE IF NAN ,,NOT A NUMBER EXIST...\n",
    "NP.ISNAN()"
   ]
  },
  {
   "cell_type": "markdown",
   "id": "32c8a07a",
   "metadata": {},
   "source": []
  },
  {
   "cell_type": "code",
   "execution_count": null,
   "id": "63d92782",
   "metadata": {},
   "outputs": [],
   "source": []
  },
  {
   "cell_type": "code",
   "execution_count": null,
   "id": "5a01ecba",
   "metadata": {},
   "outputs": [],
   "source": []
  },
  {
   "cell_type": "code",
   "execution_count": null,
   "id": "a90904b4",
   "metadata": {},
   "outputs": [],
   "source": []
  }
 ],
 "metadata": {
  "kernelspec": {
   "display_name": "Python 3",
   "language": "python",
   "name": "python3"
  },
  "language_info": {
   "codemirror_mode": {
    "name": "ipython",
    "version": 3
   },
   "file_extension": ".py",
   "mimetype": "text/x-python",
   "name": "python",
   "nbconvert_exporter": "python",
   "pygments_lexer": "ipython3",
   "version": "3.13.6"
  }
 },
 "nbformat": 4,
 "nbformat_minor": 5
}
