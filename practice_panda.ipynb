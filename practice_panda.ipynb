{
 "cells": [
  {
   "cell_type": "markdown",
   "id": "0d733d10",
   "metadata": {},
   "source": [
    "FOR CREATING DATA SET\n",
    "1) structure used is dictionary\n",
    "2)convert this data structure into data frame by :\n",
    "pd.DataFrame(data)"
   ]
  },
  {
   "cell_type": "code",
   "execution_count": 1,
   "id": "eb858b36",
   "metadata": {},
   "outputs": [
    {
     "name": "stdout",
     "output_type": "stream",
     "text": [
      "{'name': ['ashi', 'ali', 'boom', 'zain', 'munna'], 'age': [25, 78, 60, 65, 80], 'salary': [2500, 6500, 5400, 6544, 7000], 'performance_score': [5, 7, 9, 5, 8]}\n"
     ]
    }
   ],
   "source": [
    "import pandas as pd\n",
    "data={\n",
    "    \"name\":[\"ashi\",\"ali\",\"boom\",\"zain\",\"munna\"],\n",
    "    \"age\":[25,78,60,65,80],\n",
    "    \"salary\":[2500,6500,5400,6544,7000],\n",
    "    \"performance_score\":[5,7,9,5,8]\n",
    "}\n",
    "print(data)\n"
   ]
  },
  {
   "cell_type": "markdown",
   "id": "deaac65a",
   "metadata": {},
   "source": [
    "Convert dataset which is built in dictionary data structure into dataframe"
   ]
  },
  {
   "cell_type": "code",
   "execution_count": 2,
   "id": "0518f07c",
   "metadata": {},
   "outputs": [
    {
     "name": "stdout",
     "output_type": "stream",
     "text": [
      "    name  age  salary  performance_score\n",
      "0   ashi   25    2500                  5\n",
      "1    ali   78    6500                  7\n",
      "2   boom   60    5400                  9\n",
      "3   zain   65    6544                  5\n",
      "4  munna   80    7000                  8\n"
     ]
    }
   ],
   "source": [
    "df=pd.DataFrame(data)\n",
    "print(df)"
   ]
  },
  {
   "cell_type": "markdown",
   "id": "04b73a89",
   "metadata": {},
   "source": [
    "There are methods  of data frame) to preview the data in data frame:\n",
    "1)head()...\n",
    "2)tail...same as above\n",
    "3)info()\n",
    "4)describe()"
   ]
  },
  {
   "cell_type": "code",
   "execution_count": 6,
   "id": "9c16de1b",
   "metadata": {},
   "outputs": [
    {
     "data": {
      "text/html": [
       "<div>\n",
       "<style scoped>\n",
       "    .dataframe tbody tr th:only-of-type {\n",
       "        vertical-align: middle;\n",
       "    }\n",
       "\n",
       "    .dataframe tbody tr th {\n",
       "        vertical-align: top;\n",
       "    }\n",
       "\n",
       "    .dataframe thead th {\n",
       "        text-align: right;\n",
       "    }\n",
       "</style>\n",
       "<table border=\"1\" class=\"dataframe\">\n",
       "  <thead>\n",
       "    <tr style=\"text-align: right;\">\n",
       "      <th></th>\n",
       "      <th>name</th>\n",
       "      <th>age</th>\n",
       "      <th>salary</th>\n",
       "      <th>performance_score</th>\n",
       "    </tr>\n",
       "  </thead>\n",
       "  <tbody>\n",
       "    <tr>\n",
       "      <th>0</th>\n",
       "      <td>ashi</td>\n",
       "      <td>25</td>\n",
       "      <td>2500</td>\n",
       "      <td>5</td>\n",
       "    </tr>\n",
       "    <tr>\n",
       "      <th>1</th>\n",
       "      <td>ali</td>\n",
       "      <td>78</td>\n",
       "      <td>6500</td>\n",
       "      <td>7</td>\n",
       "    </tr>\n",
       "  </tbody>\n",
       "</table>\n",
       "</div>"
      ],
      "text/plain": [
       "   name  age  salary  performance_score\n",
       "0  ashi   25    2500                  5\n",
       "1   ali   78    6500                  7"
      ]
     },
     "execution_count": 6,
     "metadata": {},
     "output_type": "execute_result"
    }
   ],
   "source": [
    "df.head(2)"
   ]
  },
  {
   "cell_type": "code",
   "execution_count": 10,
   "id": "3f6870f8",
   "metadata": {},
   "outputs": [
    {
     "data": {
      "text/html": [
       "<div>\n",
       "<style scoped>\n",
       "    .dataframe tbody tr th:only-of-type {\n",
       "        vertical-align: middle;\n",
       "    }\n",
       "\n",
       "    .dataframe tbody tr th {\n",
       "        vertical-align: top;\n",
       "    }\n",
       "\n",
       "    .dataframe thead th {\n",
       "        text-align: right;\n",
       "    }\n",
       "</style>\n",
       "<table border=\"1\" class=\"dataframe\">\n",
       "  <thead>\n",
       "    <tr style=\"text-align: right;\">\n",
       "      <th></th>\n",
       "      <th>name</th>\n",
       "      <th>age</th>\n",
       "      <th>salary</th>\n",
       "      <th>performance_score</th>\n",
       "    </tr>\n",
       "  </thead>\n",
       "  <tbody>\n",
       "    <tr>\n",
       "      <th>0</th>\n",
       "      <td>ashi</td>\n",
       "      <td>25</td>\n",
       "      <td>2500</td>\n",
       "      <td>5</td>\n",
       "    </tr>\n",
       "    <tr>\n",
       "      <th>1</th>\n",
       "      <td>ali</td>\n",
       "      <td>78</td>\n",
       "      <td>6500</td>\n",
       "      <td>7</td>\n",
       "    </tr>\n",
       "    <tr>\n",
       "      <th>2</th>\n",
       "      <td>boom</td>\n",
       "      <td>60</td>\n",
       "      <td>5400</td>\n",
       "      <td>9</td>\n",
       "    </tr>\n",
       "    <tr>\n",
       "      <th>3</th>\n",
       "      <td>zain</td>\n",
       "      <td>65</td>\n",
       "      <td>6544</td>\n",
       "      <td>5</td>\n",
       "    </tr>\n",
       "    <tr>\n",
       "      <th>4</th>\n",
       "      <td>munna</td>\n",
       "      <td>80</td>\n",
       "      <td>7000</td>\n",
       "      <td>8</td>\n",
       "    </tr>\n",
       "  </tbody>\n",
       "</table>\n",
       "</div>"
      ],
      "text/plain": [
       "    name  age  salary  performance_score\n",
       "0   ashi   25    2500                  5\n",
       "1    ali   78    6500                  7\n",
       "2   boom   60    5400                  9\n",
       "3   zain   65    6544                  5\n",
       "4  munna   80    7000                  8"
      ]
     },
     "execution_count": 10,
     "metadata": {},
     "output_type": "execute_result"
    }
   ],
   "source": [
    "df.tail()"
   ]
  },
  {
   "cell_type": "markdown",
   "id": "6ce70137",
   "metadata": {},
   "source": [
    "there are methods to look into the data and take the information of data\n",
    "1)info,,,,,,,,it tells what type of data in it, number of rows and columns, column names,non null values and the memory usage\n",
    "2)describe.......it tells the statistical summary of numerical data in  data frame\n",
    "it tells the count of all the numerical values,mean.std,25%,50%,75% and max number\n",
    "std tells us the consistency of data by calculating the distance/difference of initial inputs to the respective mean"
   ]
  },
  {
   "cell_type": "code",
   "execution_count": 13,
   "id": "d3da38af",
   "metadata": {},
   "outputs": [
    {
     "name": "stdout",
     "output_type": "stream",
     "text": [
      "<class 'pandas.core.frame.DataFrame'>\n",
      "RangeIndex: 5 entries, 0 to 4\n",
      "Data columns (total 4 columns):\n",
      " #   Column             Non-Null Count  Dtype \n",
      "---  ------             --------------  ----- \n",
      " 0   name               5 non-null      object\n",
      " 1   age                5 non-null      int64 \n",
      " 2   salary             5 non-null      int64 \n",
      " 3   performance_score  5 non-null      int64 \n",
      "dtypes: int64(3), object(1)\n",
      "memory usage: 292.0+ bytes\n"
     ]
    }
   ],
   "source": [
    "df.info()"
   ]
  },
  {
   "cell_type": "code",
   "execution_count": 14,
   "id": "42f7bb59",
   "metadata": {},
   "outputs": [
    {
     "data": {
      "text/html": [
       "<div>\n",
       "<style scoped>\n",
       "    .dataframe tbody tr th:only-of-type {\n",
       "        vertical-align: middle;\n",
       "    }\n",
       "\n",
       "    .dataframe tbody tr th {\n",
       "        vertical-align: top;\n",
       "    }\n",
       "\n",
       "    .dataframe thead th {\n",
       "        text-align: right;\n",
       "    }\n",
       "</style>\n",
       "<table border=\"1\" class=\"dataframe\">\n",
       "  <thead>\n",
       "    <tr style=\"text-align: right;\">\n",
       "      <th></th>\n",
       "      <th>age</th>\n",
       "      <th>salary</th>\n",
       "      <th>performance_score</th>\n",
       "    </tr>\n",
       "  </thead>\n",
       "  <tbody>\n",
       "    <tr>\n",
       "      <th>count</th>\n",
       "      <td>5.000000</td>\n",
       "      <td>5.0000</td>\n",
       "      <td>5.000000</td>\n",
       "    </tr>\n",
       "    <tr>\n",
       "      <th>mean</th>\n",
       "      <td>61.600000</td>\n",
       "      <td>5588.8000</td>\n",
       "      <td>6.800000</td>\n",
       "    </tr>\n",
       "    <tr>\n",
       "      <th>std</th>\n",
       "      <td>22.142719</td>\n",
       "      <td>1824.1785</td>\n",
       "      <td>1.788854</td>\n",
       "    </tr>\n",
       "    <tr>\n",
       "      <th>min</th>\n",
       "      <td>25.000000</td>\n",
       "      <td>2500.0000</td>\n",
       "      <td>5.000000</td>\n",
       "    </tr>\n",
       "    <tr>\n",
       "      <th>25%</th>\n",
       "      <td>60.000000</td>\n",
       "      <td>5400.0000</td>\n",
       "      <td>5.000000</td>\n",
       "    </tr>\n",
       "    <tr>\n",
       "      <th>50%</th>\n",
       "      <td>65.000000</td>\n",
       "      <td>6500.0000</td>\n",
       "      <td>7.000000</td>\n",
       "    </tr>\n",
       "    <tr>\n",
       "      <th>75%</th>\n",
       "      <td>78.000000</td>\n",
       "      <td>6544.0000</td>\n",
       "      <td>8.000000</td>\n",
       "    </tr>\n",
       "    <tr>\n",
       "      <th>max</th>\n",
       "      <td>80.000000</td>\n",
       "      <td>7000.0000</td>\n",
       "      <td>9.000000</td>\n",
       "    </tr>\n",
       "  </tbody>\n",
       "</table>\n",
       "</div>"
      ],
      "text/plain": [
       "             age     salary  performance_score\n",
       "count   5.000000     5.0000           5.000000\n",
       "mean   61.600000  5588.8000           6.800000\n",
       "std    22.142719  1824.1785           1.788854\n",
       "min    25.000000  2500.0000           5.000000\n",
       "25%    60.000000  5400.0000           5.000000\n",
       "50%    65.000000  6500.0000           7.000000\n",
       "75%    78.000000  6544.0000           8.000000\n",
       "max    80.000000  7000.0000           9.000000"
      ]
     },
     "execution_count": 14,
     "metadata": {},
     "output_type": "execute_result"
    }
   ],
   "source": [
    "df.describe()"
   ]
  },
  {
   "cell_type": "markdown",
   "id": "2402e2cd",
   "metadata": {},
   "source": [
    "there are another attribites which gives us the information about our dataset\n",
    "1)shape.....it tells the no.of rows and column....it returns value in tuple\n",
    "2)columns...it gives the columns list in a dataframe\n",
    "you dont need prenthesis with it\n",
    "3)df.index\tReturns the row index\n",
    "df.dtypes\tReturns data types of each column\n",
    "df.values\tReturns the underlying NumPy array"
   ]
  },
  {
   "cell_type": "code",
   "execution_count": 4,
   "id": "e4e1420d",
   "metadata": {},
   "outputs": [
    {
     "name": "stdout",
     "output_type": "stream",
     "text": [
      "RangeIndex(start=0, stop=5, step=1)\n",
      "(5, 4)\n",
      "[['ashi' 25 2500 5]\n",
      " ['ali' 78 6500 7]\n",
      " ['boom' 60 5400 9]\n",
      " ['zain' 65 6544 5]\n",
      " ['munna' 80 7000 8]]\n"
     ]
    }
   ],
   "source": [
    "import pandas as pd\n",
    "data={\n",
    "    \"name\":[\"ashi\",\"ali\",\"boom\",\"zain\",\"munna\"],\n",
    "    \"age\":[25,78,60,65,80],\n",
    "    \"salary\":[2500,6500,5400,6544,7000],\n",
    "    \"performance_score\":[5,7,9,5,8]\n",
    "}\n",
    "#print(data)\n",
    "df=pd.DataFrame(data)\n",
    "print(df.index)\n",
    "print(df.shape)\n",
    "print(df.values)\n"
   ]
  },
  {
   "cell_type": "code",
   "execution_count": 3,
   "id": "1b3b66eb",
   "metadata": {},
   "outputs": [
    {
     "name": "stdout",
     "output_type": "stream",
     "text": [
      "RangeIndex(start=0, stop=5, step=1)\n"
     ]
    }
   ],
   "source": [
    "import pandas as pd\n",
    "data={\n",
    "    \"name\":[\"ashi\",\"ali\",\"boom\",\"zain\",\"munna\"],\n",
    "    \"age\":[25,78,60,65,80],\n",
    "    \"salary\":[2500,6500,5400,6544,7000],\n",
    "    \"performance_score\":[5,7,9,5,8]\n",
    "}\n",
    "#print(data)\n",
    "df=pd.DataFrame(data)\n",
    "print(df.index)"
   ]
  },
  {
   "cell_type": "code",
   "execution_count": 19,
   "id": "1648cb41",
   "metadata": {},
   "outputs": [
    {
     "data": {
      "text/plain": [
       "Index(['name', 'age', 'salary', 'performance_score'], dtype='object')"
      ]
     },
     "execution_count": 19,
     "metadata": {},
     "output_type": "execute_result"
    }
   ],
   "source": [
    "df.columns"
   ]
  },
  {
   "cell_type": "markdown",
   "id": "c1278b87",
   "metadata": {},
   "source": [
    "selection of columns:filtering data from particular column\n",
    "1)single selection...df[\"age]....it returns series and in boolean type\n",
    "by giving double brackets  [[ ]] it returns data frame and the exact data from the particualr column"
   ]
  },
  {
   "cell_type": "code",
   "execution_count": 23,
   "id": "5e2c0f40",
   "metadata": {},
   "outputs": [
    {
     "name": "stdout",
     "output_type": "stream",
     "text": [
      "0    25\n",
      "1    78\n",
      "2    60\n",
      "3    65\n",
      "4    80\n",
      "Name: age, dtype: int64\n"
     ]
    }
   ],
   "source": [
    "print(df[\"age\"])"
   ]
  },
  {
   "cell_type": "code",
   "execution_count": null,
   "id": "4c0b85c8",
   "metadata": {},
   "outputs": [
    {
     "name": "stdout",
     "output_type": "stream",
     "text": [
      "<class 'pandas.core.series.Series'>\n"
     ]
    }
   ],
   "source": [
    "#single [] indicates and returns column in series\n",
    "print(type(df[\"age\"]))"
   ]
  },
  {
   "cell_type": "code",
   "execution_count": 4,
   "id": "6d247342",
   "metadata": {},
   "outputs": [
    {
     "name": "stdout",
     "output_type": "stream",
     "text": [
      "<class 'pandas.core.frame.DataFrame'>\n",
      "   age\n",
      "0   25\n",
      "1   78\n",
      "2   60\n",
      "3   65\n",
      "4   80\n"
     ]
    }
   ],
   "source": [
    "#[[]] indicates and returns column in a data frame even though you select a single column\n",
    "print(type(df[[\"age\"]]))\n",
    "print((df[[\"age\"]]))"
   ]
  },
  {
   "cell_type": "markdown",
   "id": "e3a62fd1",
   "metadata": {},
   "source": [
    "selecting more than one column we can do via passing a list: df[[\"name,\"age]]"
   ]
  },
  {
   "cell_type": "code",
   "execution_count": 29,
   "id": "4e4d7309",
   "metadata": {},
   "outputs": [
    {
     "data": {
      "text/html": [
       "<div>\n",
       "<style scoped>\n",
       "    .dataframe tbody tr th:only-of-type {\n",
       "        vertical-align: middle;\n",
       "    }\n",
       "\n",
       "    .dataframe tbody tr th {\n",
       "        vertical-align: top;\n",
       "    }\n",
       "\n",
       "    .dataframe thead th {\n",
       "        text-align: right;\n",
       "    }\n",
       "</style>\n",
       "<table border=\"1\" class=\"dataframe\">\n",
       "  <thead>\n",
       "    <tr style=\"text-align: right;\">\n",
       "      <th></th>\n",
       "      <th>age</th>\n",
       "      <th>name</th>\n",
       "    </tr>\n",
       "  </thead>\n",
       "  <tbody>\n",
       "    <tr>\n",
       "      <th>0</th>\n",
       "      <td>25</td>\n",
       "      <td>ashi</td>\n",
       "    </tr>\n",
       "    <tr>\n",
       "      <th>1</th>\n",
       "      <td>78</td>\n",
       "      <td>ali</td>\n",
       "    </tr>\n",
       "    <tr>\n",
       "      <th>2</th>\n",
       "      <td>60</td>\n",
       "      <td>boom</td>\n",
       "    </tr>\n",
       "    <tr>\n",
       "      <th>3</th>\n",
       "      <td>65</td>\n",
       "      <td>zain</td>\n",
       "    </tr>\n",
       "    <tr>\n",
       "      <th>4</th>\n",
       "      <td>80</td>\n",
       "      <td>munna</td>\n",
       "    </tr>\n",
       "  </tbody>\n",
       "</table>\n",
       "</div>"
      ],
      "text/plain": [
       "   age   name\n",
       "0   25   ashi\n",
       "1   78    ali\n",
       "2   60   boom\n",
       "3   65   zain\n",
       "4   80  munna"
      ]
     },
     "execution_count": 29,
     "metadata": {},
     "output_type": "execute_result"
    }
   ],
   "source": [
    "df[[\"age\",\"name\"]]"
   ]
  },
  {
   "cell_type": "code",
   "execution_count": 30,
   "id": "777b93f2",
   "metadata": {},
   "outputs": [
    {
     "data": {
      "text/html": [
       "<div>\n",
       "<style scoped>\n",
       "    .dataframe tbody tr th:only-of-type {\n",
       "        vertical-align: middle;\n",
       "    }\n",
       "\n",
       "    .dataframe tbody tr th {\n",
       "        vertical-align: top;\n",
       "    }\n",
       "\n",
       "    .dataframe thead th {\n",
       "        text-align: right;\n",
       "    }\n",
       "</style>\n",
       "<table border=\"1\" class=\"dataframe\">\n",
       "  <thead>\n",
       "    <tr style=\"text-align: right;\">\n",
       "      <th></th>\n",
       "      <th>name</th>\n",
       "      <th>age</th>\n",
       "      <th>salary</th>\n",
       "    </tr>\n",
       "  </thead>\n",
       "  <tbody>\n",
       "    <tr>\n",
       "      <th>0</th>\n",
       "      <td>ashi</td>\n",
       "      <td>25</td>\n",
       "      <td>2500</td>\n",
       "    </tr>\n",
       "    <tr>\n",
       "      <th>1</th>\n",
       "      <td>ali</td>\n",
       "      <td>78</td>\n",
       "      <td>6500</td>\n",
       "    </tr>\n",
       "    <tr>\n",
       "      <th>2</th>\n",
       "      <td>boom</td>\n",
       "      <td>60</td>\n",
       "      <td>5400</td>\n",
       "    </tr>\n",
       "    <tr>\n",
       "      <th>3</th>\n",
       "      <td>zain</td>\n",
       "      <td>65</td>\n",
       "      <td>6544</td>\n",
       "    </tr>\n",
       "    <tr>\n",
       "      <th>4</th>\n",
       "      <td>munna</td>\n",
       "      <td>80</td>\n",
       "      <td>7000</td>\n",
       "    </tr>\n",
       "  </tbody>\n",
       "</table>\n",
       "</div>"
      ],
      "text/plain": [
       "    name  age  salary\n",
       "0   ashi   25    2500\n",
       "1    ali   78    6500\n",
       "2   boom   60    5400\n",
       "3   zain   65    6544\n",
       "4  munna   80    7000"
      ]
     },
     "execution_count": 30,
     "metadata": {},
     "output_type": "execute_result"
    }
   ],
   "source": [
    "df[[\"name\",\"age\",\"salary\"]]"
   ]
  },
  {
   "cell_type": "code",
   "execution_count": 36,
   "id": "89a0d9a3",
   "metadata": {},
   "outputs": [
    {
     "data": {
      "text/plain": [
       "0    False\n",
       "1     True\n",
       "2     True\n",
       "3     True\n",
       "4     True\n",
       "Name: age, dtype: bool"
      ]
     },
     "execution_count": 36,
     "metadata": {},
     "output_type": "execute_result"
    }
   ],
   "source": [
    "df[\"age\"] > 30"
   ]
  },
  {
   "cell_type": "code",
   "execution_count": 39,
   "id": "c9d0f5bb",
   "metadata": {},
   "outputs": [
    {
     "data": {
      "text/html": [
       "<div>\n",
       "<style scoped>\n",
       "    .dataframe tbody tr th:only-of-type {\n",
       "        vertical-align: middle;\n",
       "    }\n",
       "\n",
       "    .dataframe tbody tr th {\n",
       "        vertical-align: top;\n",
       "    }\n",
       "\n",
       "    .dataframe thead th {\n",
       "        text-align: right;\n",
       "    }\n",
       "</style>\n",
       "<table border=\"1\" class=\"dataframe\">\n",
       "  <thead>\n",
       "    <tr style=\"text-align: right;\">\n",
       "      <th></th>\n",
       "      <th>name</th>\n",
       "      <th>age</th>\n",
       "      <th>salary</th>\n",
       "      <th>performance_score</th>\n",
       "    </tr>\n",
       "  </thead>\n",
       "  <tbody>\n",
       "    <tr>\n",
       "      <th>1</th>\n",
       "      <td>ali</td>\n",
       "      <td>78</td>\n",
       "      <td>6500</td>\n",
       "      <td>7</td>\n",
       "    </tr>\n",
       "    <tr>\n",
       "      <th>2</th>\n",
       "      <td>boom</td>\n",
       "      <td>60</td>\n",
       "      <td>5400</td>\n",
       "      <td>9</td>\n",
       "    </tr>\n",
       "    <tr>\n",
       "      <th>3</th>\n",
       "      <td>zain</td>\n",
       "      <td>65</td>\n",
       "      <td>6544</td>\n",
       "      <td>5</td>\n",
       "    </tr>\n",
       "    <tr>\n",
       "      <th>4</th>\n",
       "      <td>munna</td>\n",
       "      <td>80</td>\n",
       "      <td>7000</td>\n",
       "      <td>8</td>\n",
       "    </tr>\n",
       "  </tbody>\n",
       "</table>\n",
       "</div>"
      ],
      "text/plain": [
       "    name  age  salary  performance_score\n",
       "1    ali   78    6500                  7\n",
       "2   boom   60    5400                  9\n",
       "3   zain   65    6544                  5\n",
       "4  munna   80    7000                  8"
      ]
     },
     "execution_count": 39,
     "metadata": {},
     "output_type": "execute_result"
    }
   ],
   "source": [
    "df[df[\"age\"]>30]"
   ]
  },
  {
   "cell_type": "code",
   "execution_count": 45,
   "id": "d8783936",
   "metadata": {},
   "outputs": [
    {
     "data": {
      "text/html": [
       "<div>\n",
       "<style scoped>\n",
       "    .dataframe tbody tr th:only-of-type {\n",
       "        vertical-align: middle;\n",
       "    }\n",
       "\n",
       "    .dataframe tbody tr th {\n",
       "        vertical-align: top;\n",
       "    }\n",
       "\n",
       "    .dataframe thead th {\n",
       "        text-align: right;\n",
       "    }\n",
       "</style>\n",
       "<table border=\"1\" class=\"dataframe\">\n",
       "  <thead>\n",
       "    <tr style=\"text-align: right;\">\n",
       "      <th></th>\n",
       "      <th>name</th>\n",
       "      <th>age</th>\n",
       "      <th>salary</th>\n",
       "      <th>performance_score</th>\n",
       "    </tr>\n",
       "  </thead>\n",
       "  <tbody>\n",
       "    <tr>\n",
       "      <th>1</th>\n",
       "      <td>ali</td>\n",
       "      <td>78</td>\n",
       "      <td>6500</td>\n",
       "      <td>7</td>\n",
       "    </tr>\n",
       "    <tr>\n",
       "      <th>3</th>\n",
       "      <td>zain</td>\n",
       "      <td>65</td>\n",
       "      <td>6544</td>\n",
       "      <td>5</td>\n",
       "    </tr>\n",
       "    <tr>\n",
       "      <th>4</th>\n",
       "      <td>munna</td>\n",
       "      <td>80</td>\n",
       "      <td>7000</td>\n",
       "      <td>8</td>\n",
       "    </tr>\n",
       "  </tbody>\n",
       "</table>\n",
       "</div>"
      ],
      "text/plain": [
       "    name  age  salary  performance_score\n",
       "1    ali   78    6500                  7\n",
       "3   zain   65    6544                  5\n",
       "4  munna   80    7000                  8"
      ]
     },
     "execution_count": 45,
     "metadata": {},
     "output_type": "execute_result"
    }
   ],
   "source": [
    "df[(df[\"age\"]>30) & (df[\"salary\"]>6000)]"
   ]
  },
  {
   "cell_type": "code",
   "execution_count": 46,
   "id": "7c5530fb",
   "metadata": {},
   "outputs": [
    {
     "data": {
      "text/html": [
       "<div>\n",
       "<style scoped>\n",
       "    .dataframe tbody tr th:only-of-type {\n",
       "        vertical-align: middle;\n",
       "    }\n",
       "\n",
       "    .dataframe tbody tr th {\n",
       "        vertical-align: top;\n",
       "    }\n",
       "\n",
       "    .dataframe thead th {\n",
       "        text-align: right;\n",
       "    }\n",
       "</style>\n",
       "<table border=\"1\" class=\"dataframe\">\n",
       "  <thead>\n",
       "    <tr style=\"text-align: right;\">\n",
       "      <th></th>\n",
       "      <th>name</th>\n",
       "      <th>age</th>\n",
       "      <th>salary</th>\n",
       "      <th>performance_score</th>\n",
       "    </tr>\n",
       "  </thead>\n",
       "  <tbody>\n",
       "    <tr>\n",
       "      <th>4</th>\n",
       "      <td>munna</td>\n",
       "      <td>80</td>\n",
       "      <td>7000</td>\n",
       "      <td>8</td>\n",
       "    </tr>\n",
       "  </tbody>\n",
       "</table>\n",
       "</div>"
      ],
      "text/plain": [
       "    name  age  salary  performance_score\n",
       "4  munna   80    7000                  8"
      ]
     },
     "execution_count": 46,
     "metadata": {},
     "output_type": "execute_result"
    }
   ],
   "source": [
    "df[(df[\"name\"] ==\"munna\") & (df[\"performance_score\"]==8)]"
   ]
  },
  {
   "cell_type": "markdown",
   "id": "ac2d85ca",
   "metadata": {},
   "source": [
    "NOW APPLY MODIFICATION ON DATA SET BY USING DIFFERENT METHODS\n"
   ]
  },
  {
   "cell_type": "code",
   "execution_count": null,
   "id": "9fbf256b",
   "metadata": {},
   "outputs": [
    {
     "name": "stdout",
     "output_type": "stream",
     "text": [
      "    name  age  salary  performance_score  Gender\n",
      "0   ashi   25    2500                  5  female\n",
      "1    ali   78    6500                  7    male\n",
      "2   boom   60    5400                  9    male\n",
      "3   zain   65    6544                  5    male\n",
      "4  munna   80    7000                  8    male\n"
     ]
    }
   ],
   "source": [
    "#TO ADD NEW COLUMN WHEN KEEPING IT TO PROPER INDEX IS NOT AN ISSUE,simple assignment operator works for it\n",
    "df[\"Gender\"]=[\"female\",\"male\",\"male\",\"male\",\"male\"]\n",
    "print(df)"
   ]
  },
  {
   "cell_type": "code",
   "execution_count": 48,
   "id": "3c7b4d99",
   "metadata": {},
   "outputs": [
    {
     "name": "stdout",
     "output_type": "stream",
     "text": [
      "    name  age  salary  performance_score  Gender  bonus\n",
      "0   ashi   25    2500                  5  female  250.0\n",
      "1    ali   78    6500                  7    male  650.0\n",
      "2   boom   60    5400                  9    male  540.0\n",
      "3   zain   65    6544                  5    male  654.4\n",
      "4  munna   80    7000                  8    male  700.0\n"
     ]
    }
   ],
   "source": [
    "#adding new column with bonus in existing salary\n",
    "df[\"bonus\"]=df[\"salary\"]*0.1\n",
    "print(df)"
   ]
  },
  {
   "cell_type": "code",
   "execution_count": 50,
   "id": "18bdca02",
   "metadata": {},
   "outputs": [
    {
     "name": "stdout",
     "output_type": "stream",
     "text": [
      "    name  age  salary  extra_money  performance_score  Gender  bonus\n",
      "0   ashi   25    2500        500.0                  5  female  250.0\n",
      "1    ali   78    6500       1300.0                  7    male  650.0\n",
      "2   boom   60    5400       1080.0                  9    male  540.0\n",
      "3   zain   65    6544       1308.8                  5    male  654.4\n",
      "4  munna   80    7000       1400.0                  8    male  700.0\n"
     ]
    }
   ],
   "source": [
    "df.insert(3,\"extra_money\",df[\"salary\"]*0.2)\n",
    "print(df)"
   ]
  },
  {
   "cell_type": "code",
   "execution_count": 51,
   "id": "cda72aeb",
   "metadata": {},
   "outputs": [
    {
     "name": "stdout",
     "output_type": "stream",
     "text": [
      "    name  age  salary  extra_money  performance_score  Gender   bonus\n",
      "0   ashi   25    2500        500.0                  5  female   750.0\n",
      "1    ali   78    6500       1300.0                  7    male  1950.0\n",
      "2   boom   60    5400       1080.0                  9    male  1620.0\n",
      "3   zain   65    6544       1308.8                  5    male  1963.2\n",
      "4  munna   80    7000       1400.0                  8    male  2100.0\n"
     ]
    }
   ],
   "source": [
    "#modifying existing column data\n",
    "df[\"bonus\"]=df[\"salary\"]*0.3\n",
    "print(df)"
   ]
  },
  {
   "cell_type": "code",
   "execution_count": null,
   "id": "b7b51729",
   "metadata": {},
   "outputs": [
    {
     "name": "stdout",
     "output_type": "stream",
     "text": [
      "    name  age  salary  performance_score  Gender   bonus\n",
      "0   ashi   25    2500                  5  female   750.0\n",
      "1    ali   78    6500                  7    male  1950.0\n",
      "2   boom   60    5400                  9    male  1620.0\n",
      "3   zain   65    6544                  5    male  1963.2\n",
      "4  munna   80    7000                  8    male  2100.0\n"
     ]
    }
   ],
   "source": [
    "#NOW TO REMOVE COLUMN FROM DATA FRAME;DROP METHOD IS BEING USED,INPLACE IS USED TO PERFORME MODIFICATION IN \n",
    "# EXISTING DATAFRAME OTHERWISE IT GIVES YOU ANOTHER COPY\n",
    "df.drop(columns=[\"extra_money\"],inplace=True)\n",
    "print(df)"
   ]
  },
  {
   "cell_type": "code",
   "execution_count": 54,
   "id": "25f58868",
   "metadata": {},
   "outputs": [
    {
     "name": "stdout",
     "output_type": "stream",
     "text": [
      "    name  age  salary  performance_score  Gender\n",
      "0   ashi   25    2500                  5  female\n",
      "1    ali   78    6500                  7    male\n",
      "2   boom   60    5400                  9    male\n",
      "3   zain   65    6544                  5    male\n",
      "4  munna   80    7000                  8    male\n"
     ]
    }
   ],
   "source": [
    "df.drop(columns=[\"bonus\"],inplace=True)\n",
    "print(df)"
   ]
  },
  {
   "cell_type": "markdown",
   "id": "cb888673",
   "metadata": {},
   "source": [
    "DROP METHOD IS USED TO SIMPLY DROP THE COLUMN WHICH NO LONGER NEEDED OR WHATSOEVER,\n",
    "ISNULL()METHOD IS USED TO SEE THE VALUES WITH NULL OR NONE VALUES"
   ]
  },
  {
   "cell_type": "code",
   "execution_count": 13,
   "id": "a98a9aeb",
   "metadata": {},
   "outputs": [
    {
     "name": "stdout",
     "output_type": "stream",
     "text": [
      "    name   age  salary  performance_score\n",
      "0   ashi  25.0  2500.0                5.0\n",
      "1   None   NaN     NaN                NaN\n",
      "2   boom  98.0  5400.0                9.0\n",
      "3   zain  65.0  6544.0                5.0\n",
      "4  munna  80.0  7000.0                8.0\n",
      "    name   age  salary  performance_score\n",
      "0   ashi  25.0  2500.0                5.0\n",
      "1      0   0.0     0.0                0.0\n",
      "2   boom  98.0  5400.0                9.0\n",
      "3   zain  65.0  6544.0                5.0\n",
      "4  munna  80.0  7000.0                8.0\n"
     ]
    }
   ],
   "source": [
    "import pandas as pd\n",
    "data={\n",
    "    \"name\":[\"ashi\",None,\"boom\",\"zain\",\"munna\"],\n",
    "    \"age\":[25,None,98,65,80],\n",
    "    \"salary\":[2500,None,5400,6544,7000],\n",
    "    \"performance_score\":[5,None,9,5,8]\n",
    "}\n",
    "#print(data)\n",
    "df=pd.DataFrame(data)\n",
    "print(df)\n",
    "df.isnull().sum()\n",
    "#df.dropna(inplace=True)\n",
    "#print(df)\n",
    "df.fillna(0,inplace=True)\n",
    "print(df)"
   ]
  },
  {
   "cell_type": "code",
   "execution_count": 60,
   "id": "d3dfad54",
   "metadata": {},
   "outputs": [
    {
     "name": "stdout",
     "output_type": "stream",
     "text": [
      "    name   age  salary  performance_score\n",
      "0   ashi  25.0  2500.0                5.0\n",
      "1   None   NaN     NaN                NaN\n",
      "2   boom  98.0  5400.0                9.0\n",
      "3   zain  65.0  6544.0                5.0\n",
      "4  munna  80.0  7000.0                8.0\n"
     ]
    }
   ],
   "source": [
    "df=pd.DataFrame(data)\n",
    "print(df)"
   ]
  },
  {
   "cell_type": "code",
   "execution_count": 8,
   "id": "cb9f821f",
   "metadata": {},
   "outputs": [
    {
     "data": {
      "text/plain": [
       "name                 0\n",
       "age                  0\n",
       "salary               0\n",
       "performance_score    0\n",
       "dtype: int64"
      ]
     },
     "execution_count": 8,
     "metadata": {},
     "output_type": "execute_result"
    }
   ],
   "source": [
    "df.isnull().sum()"
   ]
  },
  {
   "cell_type": "code",
   "execution_count": 7,
   "id": "a8b5c453",
   "metadata": {},
   "outputs": [
    {
     "data": {
      "text/plain": [
       "name                 5\n",
       "age                  5\n",
       "salary               5\n",
       "performance_score    5\n",
       "dtype: int64"
      ]
     },
     "execution_count": 7,
     "metadata": {},
     "output_type": "execute_result"
    }
   ],
   "source": [
    "df.notnull().sum()"
   ]
  },
  {
   "cell_type": "code",
   "execution_count": null,
   "id": "e1d3a3dc",
   "metadata": {},
   "outputs": [],
   "source": [
    "#as dropna method to remove missing values we have fillna to fill those values\n",
    "#df.fillna(0,inplace=True)\n",
    "#print(df)"
   ]
  },
  {
   "cell_type": "code",
   "execution_count": 71,
   "id": "c9dddda2",
   "metadata": {},
   "outputs": [
    {
     "name": "stdout",
     "output_type": "stream",
     "text": [
      "    name   age  salary  performance_score\n",
      "0   ashi  25.0  2500.0                5.0\n",
      "1      0   0.0     0.0                0.0\n",
      "2   boom  98.0  5400.0                9.0\n",
      "3   zain  65.0  6544.0                5.0\n",
      "4  munna  80.0  7000.0                8.0\n"
     ]
    },
    {
     "name": "stderr",
     "output_type": "stream",
     "text": [
      "C:\\Users\\saifia computer\\AppData\\Local\\Temp\\ipykernel_17152\\196195852.py:1: FutureWarning: A value is trying to be set on a copy of a DataFrame or Series through chained assignment using an inplace method.\n",
      "The behavior will change in pandas 3.0. This inplace method will never work because the intermediate object on which we are setting values always behaves as a copy.\n",
      "\n",
      "For example, when doing 'df[col].method(value, inplace=True)', try using 'df.method({col: value}, inplace=True)' or df[col] = df[col].method(value) instead, to perform the operation inplace on the original object.\n",
      "\n",
      "\n",
      "  df[\"age\"].fillna(df[\"age\"].mean(),inplace=True)\n"
     ]
    }
   ],
   "source": [
    "df[\"age\"].fillna(df[\"age\"].mean(),inplace=True)\n",
    "print(df)"
   ]
  },
  {
   "cell_type": "code",
   "execution_count": 72,
   "id": "98bf2395",
   "metadata": {},
   "outputs": [
    {
     "name": "stdout",
     "output_type": "stream",
     "text": [
      "    name   age  salary  performance_score\n",
      "0   ashi  25.0  2500.0                5.0\n",
      "1      0   0.0     0.0                0.0\n",
      "2   boom  98.0  5400.0                9.0\n",
      "3   zain  65.0  6544.0                5.0\n",
      "4  munna  80.0  7000.0                8.0\n"
     ]
    },
    {
     "name": "stderr",
     "output_type": "stream",
     "text": [
      "C:\\Users\\saifia computer\\AppData\\Local\\Temp\\ipykernel_17152\\196195852.py:1: FutureWarning: A value is trying to be set on a copy of a DataFrame or Series through chained assignment using an inplace method.\n",
      "The behavior will change in pandas 3.0. This inplace method will never work because the intermediate object on which we are setting values always behaves as a copy.\n",
      "\n",
      "For example, when doing 'df[col].method(value, inplace=True)', try using 'df.method({col: value}, inplace=True)' or df[col] = df[col].method(value) instead, to perform the operation inplace on the original object.\n",
      "\n",
      "\n",
      "  df[\"age\"].fillna(df[\"age\"].mean(),inplace=True)\n"
     ]
    }
   ],
   "source": [
    "df[\"age\"].fillna(df[\"age\"].mean(),inplace=True)\n",
    "print(df)"
   ]
  },
  {
   "cell_type": "code",
   "execution_count": 78,
   "id": "3228fd2c",
   "metadata": {},
   "outputs": [
    {
     "name": "stdout",
     "output_type": "stream",
     "text": [
      "    name   age  salary  performance_score\n",
      "0   ashi  25.0  2500.0                5.0\n",
      "1   None  67.0  5361.0                NaN\n",
      "2   boom  98.0  5400.0                9.0\n",
      "3   zain  65.0  6544.0                5.0\n",
      "4  munna  80.0  7000.0                8.0\n"
     ]
    }
   ],
   "source": [
    "import pandas as pd\n",
    "data={\n",
    "    \"name\":[\"ashi\",None,\"boom\",\"zain\",\"munna\"],\n",
    "    \"age\":[25,None,98,65,80],\n",
    "    \"salary\":[2500,None,5400,6544,7000],\n",
    "    \"performance_score\":[5,None,9,5,8]\n",
    "}\n",
    "df=pd.DataFrame(data)\n",
    "df.fillna({\n",
    "    \"age\": df[\"age\"].mean(),\n",
    "    \"salary\": df[\"salary\"].mean()\n",
    "}, inplace=True)\n",
    "print(df)"
   ]
  },
  {
   "cell_type": "markdown",
   "id": "85c770a5",
   "metadata": {},
   "source": [
    "ITS NOT ALWAYS A GOOD PRACTICE TO FILL WITH RANDOM VALUES,PANDAS PROVIDE INTERPOLATION METHOD WHICH IS USED TO FILL THE VALUES\n",
    "BASED ON ESTIMATION,USUALLY WORKS WITH TIME SERIES DATA:\n",
    "LINEAR INTERPOLATION,POLYNOMIAL,TIME,QUADRATICAL AND SO ON\n",
    "\n",
    "PROS:\n",
    "1)DATA INTREGITY\n",
    "2)ESTIMATION BASED VALUES INSERTION\n",
    "3)SMOOTH TRANSITION\n",
    "AXIS=0 MEAN ROWS.AXIS=1 FOR COLUMNS\n",
    "\n",
    "cons:\n",
    "doesnt work with categorical data\n",
    "not always work well when there is no structured data,predication can go wrong"
   ]
  },
  {
   "cell_type": "code",
   "execution_count": 79,
   "id": "1012a2f3",
   "metadata": {},
   "outputs": [
    {
     "name": "stdout",
     "output_type": "stream",
     "text": [
      "   time  Value\n",
      "0  10.0  100.0\n",
      "1  20.0  200.0\n",
      "2  30.0  300.0\n",
      "3  40.0  400.0\n",
      "4  50.0  500.0\n"
     ]
    }
   ],
   "source": [
    "#FOR INTERPOLATION\n",
    "data={\n",
    "    \"time\":[10,20,None,40,50],\n",
    "    \"Value\":[100,200,None,400,500]\n",
    "}\n",
    "df=pd.DataFrame(data)\n",
    "df.interpolate(method=\"linear\",axis=0,inplace=True)\n",
    "print(df)"
   ]
  },
  {
   "cell_type": "markdown",
   "id": "280c7e70",
   "metadata": {},
   "source": [
    "SORTING OF DATA:"
   ]
  },
  {
   "cell_type": "code",
   "execution_count": 81,
   "id": "7179784c",
   "metadata": {},
   "outputs": [
    {
     "name": "stdout",
     "output_type": "stream",
     "text": [
      "    name  age  salary  performance_score\n",
      "0   ashi   25    2500                  5\n",
      "2   boom   60    5400                  9\n",
      "3   zain   65    6544                  5\n",
      "1    ali   78    6500                  7\n",
      "4  munna   80    7000                  8\n"
     ]
    }
   ],
   "source": [
    "#sorting of data\n",
    "import pandas as pd\n",
    "data={\n",
    "    \"name\":[\"ashi\",\"ali\",\"boom\",\"zain\",\"munna\"],\n",
    "    \"age\":[25,78,60,65,80],\n",
    "    \"salary\":[2500,6500,5400,6544,7000],\n",
    "    \"performance_score\":[5,7,9,5,8]\n",
    "}\n",
    "df=pd.DataFrame(data)\n",
    "df.sort_values(by=\"age\",ascending=True,inplace=True)\n",
    "print(df)"
   ]
  },
  {
   "cell_type": "code",
   "execution_count": 82,
   "id": "4d574773",
   "metadata": {},
   "outputs": [
    {
     "name": "stdout",
     "output_type": "stream",
     "text": [
      "    name  age  salary  performance_score\n",
      "4  munna   80    7000                  8\n",
      "3   zain   65    6544                  5\n",
      "1    ali   78    6500                  7\n",
      "2   boom   60    5400                  9\n",
      "0   ashi   25    2500                  5\n"
     ]
    }
   ],
   "source": [
    "df.sort_values(by=\"salary\",ascending=False,inplace=True)\n",
    "print(df)\n"
   ]
  },
  {
   "cell_type": "code",
   "execution_count": 83,
   "id": "fe768064",
   "metadata": {},
   "outputs": [
    {
     "name": "stdout",
     "output_type": "stream",
     "text": [
      "    name  age  salary  performance_score\n",
      "0   ashi   25    2500                  5\n",
      "2   boom   60    5400                  9\n",
      "1    ali   78    6500                  7\n",
      "3   zain   65    6544                  5\n",
      "4  munna   80    7000                  8\n"
     ]
    }
   ],
   "source": [
    "#NOW MULTIPLE SORTING \n",
    "df.sort_values(by=[\"salary\",\"performance_score\"],ascending=[True,True],inplace=True)\n",
    "print(df)"
   ]
  },
  {
   "cell_type": "code",
   "execution_count": 89,
   "id": "7fbabae7",
   "metadata": {},
   "outputs": [
    {
     "name": "stdout",
     "output_type": "stream",
     "text": [
      "5588.8\n",
      "5\n"
     ]
    }
   ],
   "source": [
    "#sorting of data\n",
    "import pandas as pd\n",
    "data={\n",
    "    \"name\":[\"ashi\",\"ali\",\"boom\",\"zain\",\"munna\"],\n",
    "    \"age\":[25,78,60,65,80],\n",
    "    \"salary\":[2500,6500,5400,6544,7000],\n",
    "    \"performance_score\":[5,7,9,5,8]\n",
    "}\n",
    "df=pd.DataFrame(data)\n",
    "#AGGREGATING......SUMMARY OF STASTICAL DATA\n",
    "finding_avg=df[\"salary\"].mean()\n",
    "df[\"age\"].max()\n",
    "finding_min=df[\"performance_score\"].min()\n",
    "print(finding_avg)\n",
    "#print(finding_max)\n",
    "print(finding_min)\n"
   ]
  },
  {
   "cell_type": "markdown",
   "id": "4fed71c1",
   "metadata": {},
   "source": [
    "MERGING AND JOINING:\n",
    "WE NEED TO ADD 2 DATA FRAMES WHICH HAVE COMMON PROPERTIES.,WHICH IS COMMON IN BOTH DATA FRAMES\n",
    "PD.MERGE(DF1,DF2,ON=\"COLUMN_NAME\",HOW=\"TYPE OF JOIN\")\n",
    "INNER JOIN.OUTER,CROSS,LEFT,RIGHT)JOINS\n",
    "INNER JOIN(JOIN ON THE BASES OF COMMON COLUMN)returns only the matching values\n",
    "OUTER JOIN()IT MERGES AND COMBINES THE WHOLE(ROWS) DATA SET,VALUE WHICH IT CANT FIND PLACE THEM WITH NAN\n",
    "LEFT JOIN( KEEP THE VALUES OF LEFT )\n",
    "RIGHT JOIN(KEEP THE VALUE OF RIGHT DATA FRAME)....THE VALUE WHICH IT DOESNT GET ,REPLACE IT WILL NAN \n",
    "CROSS JOIN(CARTESIAN PRODUCT)M*N ROWS PRODUCES IN A RESULT.....COMBINE PAIRS OF ROWS IN A DATA SET"
   ]
  },
  {
   "cell_type": "code",
   "execution_count": 95,
   "id": "740945f4",
   "metadata": {},
   "outputs": [
    {
     "name": "stdout",
     "output_type": "stream",
     "text": [
      "   name  order  id\n",
      "0   ali   2000   1\n",
      "1  iqra   4000   2\n",
      "    name  order   id\n",
      "0    ali   2000  1.0\n",
      "1   iqra   4000  2.0\n",
      "2  bisma   6000  NaN\n",
      "3    NaN   9000  3.0\n",
      "    name  order   id\n",
      "0    ali   2000  1.0\n",
      "1   iqra   4000  2.0\n",
      "2  bisma   6000  NaN\n",
      "   name  order  id\n",
      "0   ali   2000   1\n",
      "1  iqra   4000   2\n",
      "2   NaN   9000   3\n",
      "    name  order_x  id  order_y\n",
      "0    ali     2000   1     2000\n",
      "1    ali     2000   2     4000\n",
      "2    ali     2000   3     9000\n",
      "3   iqra     4000   1     2000\n",
      "4   iqra     4000   2     4000\n",
      "5   iqra     4000   3     9000\n",
      "6  bisma     6000   1     2000\n",
      "7  bisma     6000   2     4000\n",
      "8  bisma     6000   3     9000\n"
     ]
    }
   ],
   "source": [
    "#MERGING DATA FRAMES\n",
    "import pandas as pd\n",
    "data1={\n",
    "    \"name\":[\"ali\",\"iqra\",\"bisma\"],\n",
    "    \"order\":[2000,4000,6000]\n",
    "}\n",
    "data2={\n",
    "    \"id\":[1,2,3],\n",
    "    \"order\":[2000,4000,9000]\n",
    "\n",
    "}\n",
    "df1=pd.DataFrame(data1)\n",
    "df2=pd.DataFrame(data2)\n",
    "df_merged_inner=pd.merge(df1,df2,on=\"order\",how=\"inner\")\n",
    "print(df_merged_inner)\n",
    "df_merged_outer=pd.merge(df1,df2,on=\"order\",how=\"outer\")\n",
    "print(df_merged_outer)\n",
    "df_merged_left=pd.merge(df1,df2,on=\"order\",how=\"left\")\n",
    "print(df_merged_left)\n",
    "df_merged_right=pd.merge(df1,df2,on=\"order\",how=\"right\")\n",
    "print(df_merged_right)\n",
    "df_merged_cross=pd.merge(df1,df2,how=\"cross\")\n",
    "print(df_merged_cross)"
   ]
  },
  {
   "cell_type": "markdown",
   "id": "0c90fc53",
   "metadata": {},
   "source": [
    "CONCATENATION.....COMBINE DATAFRAMES EITHER IN VERTICALLY OR HORIZONTALLY\n",
    "ADDING DATA FRAMES.....VERTICALLY....AXIS 0...ROW WISE\n",
    "HORIZONTALLY....COLUMN WISE....AXIS=1..........COLUMN WISE\n",
    "PD.CONCAT([DF1,DF2],AXIS-0,IGNORE_AXIS-TRUE).........PASS THE LIST OF 2 DATA FRAMES"
   ]
  },
  {
   "cell_type": "code",
   "execution_count": null,
   "id": "0a6c8371",
   "metadata": {},
   "outputs": [
    {
     "name": "stdout",
     "output_type": "stream",
     "text": [
      "    name   order   id  order_num\n",
      "0    ali  2000.0  NaN        NaN\n",
      "1   iqra  4000.0  NaN        NaN\n",
      "2  bisma  6000.0  NaN        NaN\n",
      "3    NaN     NaN  1.0       10.0\n",
      "4    NaN     NaN  2.0       20.0\n",
      "5    NaN     NaN  3.0       30.0\n"
     ]
    }
   ],
   "source": [
    "#concatination\n",
    "import pandas as pd\n",
    "data1={\n",
    "    \"name\":[\"ali\",\"iqra\",\"bisma\"],\n",
    "    \"order\":[2000,4000,6000]\n",
    "}\n",
    "data2={\n",
    "    \"id\":[1,2,3],\n",
    "    \"order_num\":[10,20,30]\n",
    "\n",
    "}\n",
    "df1=pd.DataFrame(data1)\n",
    "df2=pd.DataFrame(data2)\n",
    "df_concat=pd.concat([df1,df2],axis=0,ignore_index=True)\n",
    "print(df_concat)"
   ]
  },
  {
   "cell_type": "code",
   "execution_count": 99,
   "id": "461768d6",
   "metadata": {},
   "outputs": [
    {
     "name": "stdout",
     "output_type": "stream",
     "text": [
      "         name  order\n",
      "0         ali   2000\n",
      "1        iqra   4000\n",
      "2       bisma   6000\n",
      "3     aliyana   6000\n",
      "4       iqrar  10000\n",
      "5  bisma khan  50000\n",
      "       0     1           2      3\n",
      "0    ali  2000     aliyana   6000\n",
      "1   iqra  4000       iqrar  10000\n",
      "2  bisma  6000  bisma khan  50000\n"
     ]
    }
   ],
   "source": [
    "#concatination\n",
    "import pandas as pd\n",
    "data1={\n",
    "    \"name\":[\"ali\",\"iqra\",\"bisma\"],\n",
    "    \"order\":[2000,4000,6000]\n",
    "}\n",
    "data2={\n",
    "    \"name\":[\"aliyana\",\"iqrar\",\"bisma khan\"],\n",
    "    \"order\":[6000,10000,50000]\n",
    "}\n",
    "\n",
    "df1=pd.DataFrame(data1)\n",
    "df2=pd.DataFrame(data2)\n",
    "df_concat_vertically=pd.concat([df1,df2],axis=0,ignore_index=True)\n",
    "print(df_concat)\n",
    "df_concat_horizontally=pd.concat([df1,df2],axis=1,ignore_index=True)\n",
    "print(df_concat_horizontally)"
   ]
  }
 ],
 "metadata": {
  "kernelspec": {
   "display_name": "Python 3",
   "language": "python",
   "name": "python3"
  },
  "language_info": {
   "codemirror_mode": {
    "name": "ipython",
    "version": 3
   },
   "file_extension": ".py",
   "mimetype": "text/x-python",
   "name": "python",
   "nbconvert_exporter": "python",
   "pygments_lexer": "ipython3",
   "version": "3.13.6"
  }
 },
 "nbformat": 4,
 "nbformat_minor": 5
}
